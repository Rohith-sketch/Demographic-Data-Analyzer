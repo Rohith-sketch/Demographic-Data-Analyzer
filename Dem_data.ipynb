{
  "metadata": {
    "kernelspec": {
      "name": "python",
      "display_name": "Python (Pyodide)",
      "language": "python"
    },
    "language_info": {
      "codemirror_mode": {
        "name": "python",
        "version": 3
      },
      "file_extension": ".py",
      "mimetype": "text/x-python",
      "name": "python",
      "nbconvert_exporter": "python",
      "pygments_lexer": "ipython3",
      "version": "3.8"
    }
  },
  "nbformat_minor": 5,
  "nbformat": 4,
  "cells": [
    {
      "id": "e19b11c2-083a-4728-b5b4-8b6eee6eb563",
      "cell_type": "code",
      "source": "import pandas as pd\n\ndef calculate_demographic_data(print_data=True):\n    df = pd.read_csv('adult.data.csv', header=0)\n\n    # Strip whitespace from strings\n    df = df.applymap(lambda x: x.strip() if isinstance(x, str) else x)\n\n    # 1. Race count\n    race_count = df['race'].value_counts()\n\n    # 2. Average age of men\n    average_age_men = df[df['sex'] == 'Male']['age'].mean()\n\n    # 3. Percentage with Bachelor's degree\n    percentage_bachelors = (df['education'] == 'Bachelors').mean() * 100\n\n    # 4. Higher and lower education\n    higher_education = df['education'].isin(['Bachelors', 'Masters', 'Doctorate'])\n    lower_education = ~higher_education\n\n    higher_education_rich = df[higher_education]['salary'].eq('>50K').mean() * 100\n    lower_education_rich = df[lower_education]['salary'].eq('>50K').mean() * 100\n\n    # 5. Min work hours\n    min_work_hours = df['hours-per-week'].min()\n\n    # 6. Rich among those who work min hours\n    num_min_workers = df[df['hours-per-week'] == min_work_hours]\n    rich_percentage = num_min_workers['salary'].eq('>50K').mean() * 100\n\n    # 7. Country with highest % of >50K earners\n    country_income = df.groupby('native-country')['salary'].value_counts(normalize=True).unstack()\n    highest_earning_country = country_income['>50K'].idxmax()\n    highest_earning_country_percentage = country_income['>50K'].max() * 100\n\n    # 8. Top occupation >50K in India\n    top_IN_occupation = (\n        df[(df['native-country'] == 'India') & (df['salary'] == '>50K')]\n        ['occupation'].value_counts().idxmax()\n    )\n\n    # Print results if needed\n    if print_data:\n        print(\"Number of each race:\\n\", race_count) \n        print(\"Average age of men:\", average_age_men)\n        print(f\"Percentage with Bachelors degrees: {percentage_bachelors:.2f}%\")\n        print(f\"Percentage with higher education that earn >50K: {higher_education_rich:.2f}%\")\n        print(f\"Percentage without higher education that earn >50K: {lower_education_rich:.2f}%\")\n        print(f\"Min work time: {min_work_hours} hours/week\")\n        print(f\"Percentage of rich among those who work fewest hours: {rich_percentage:.2f}%\")\n        print(\"Country with highest percentage of rich:\", highest_earning_country)\n        print(f\"Highest percentage of rich people in country: {highest_earning_country_percentage:.2f}%\")\n        print(\"Top occupations in India:\", top_IN_occupation)\n\n    return {\n        'race_count': race_count,\n        'average_age_men': average_age_men,\n        'percentage_bachelors': percentage_bachelors,\n        'higher_education_rich': higher_education_rich,\n        'lower_education_rich': lower_education_rich,\n        'min_work_hours': min_work_hours,\n        'rich_percentage': rich_percentage,\n        'highest_earning_country': highest_earning_country,\n        'highest_earning_country_percentage': highest_earning_country_percentage,\n        'top_IN_occupation': top_IN_occupation\n    }\ncalculate_demographic_data()",
      "metadata": {
        "trusted": true
      },
      "outputs": [
        {
          "name": "stderr",
          "output_type": "stream",
          "text": "<ipython-input-5-ba08f7732322>:7: FutureWarning: DataFrame.applymap has been deprecated. Use DataFrame.map instead.\n  df = df.applymap(lambda x: x.strip() if isinstance(x, str) else x)\n"
        },
        {
          "name": "stdout",
          "output_type": "stream",
          "text": "Number of each race:\n race\nWhite                 27816\nBlack                  3124\nAsian-Pac-Islander     1039\nAmer-Indian-Eskimo      311\nOther                   271\nName: count, dtype: int64\nAverage age of men: 39.43354749885268\nPercentage with Bachelors degrees: 16.45%\nPercentage with higher education that earn >50K: 46.54%\nPercentage without higher education that earn >50K: 17.37%\nMin work time: 1 hours/week\nPercentage of rich among those who work fewest hours: 10.00%\nCountry with highest percentage of rich: Iran\nHighest percentage of rich people in country: 41.86%\nTop occupations in India: Prof-specialty\n"
        },
        {
          "execution_count": 5,
          "output_type": "execute_result",
          "data": {
            "text/plain": "{'race_count': race\n White                 27816\n Black                  3124\n Asian-Pac-Islander     1039\n Amer-Indian-Eskimo      311\n Other                   271\n Name: count, dtype: int64,\n 'average_age_men': np.float64(39.43354749885268),\n 'percentage_bachelors': np.float64(16.44605509658794),\n 'higher_education_rich': np.float64(46.535843011613935),\n 'lower_education_rich': np.float64(17.3713601914639),\n 'min_work_hours': np.int64(1),\n 'rich_percentage': np.float64(10.0),\n 'highest_earning_country': 'Iran',\n 'highest_earning_country_percentage': np.float64(41.86046511627907),\n 'top_IN_occupation': 'Prof-specialty'}"
          },
          "metadata": {}
        }
      ],
      "execution_count": 6
    }
  ]
}